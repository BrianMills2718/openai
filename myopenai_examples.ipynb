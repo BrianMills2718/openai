{
 "cells": [
  {
   "cell_type": "code",
   "execution_count": 2,
   "metadata": {},
   "outputs": [],
   "source": []
  },
  {
   "cell_type": "code",
   "execution_count": 2,
   "metadata": {},
   "outputs": [
    {
     "name": "stdout",
     "output_type": "stream",
     "text": [
      "ENTERING COMPLETE\n",
      "INPUT PROMPT:  what is the capital of france \n",
      "\n",
      "OUTPUT:  The capital of France is Paris.\n",
      "EXITING CHAT \n",
      "\n",
      "\n",
      "ENTERING COMPLETE\n",
      "INPUT PROMPT:  what is a baby cat called \n",
      "\n",
      "OUTPUT:  A baby cat is called a kitten.\n",
      "EXITING CHAT \n",
      "\n",
      "\n"
     ]
    },
    {
     "data": {
      "text/plain": [
       "'A baby cat is called a kitten.'"
      ]
     },
     "execution_count": 2,
     "metadata": {},
     "output_type": "execute_result"
    }
   ],
   "source": [
    "# COMPLETE\n",
    "import myopenai\n",
    "\n",
    "myopenai.complete(\"what is the capital of france\")\n",
    "myopenai.complete(\"what is a baby cat called\")"
   ]
  },
  {
   "cell_type": "code",
   "execution_count": 3,
   "metadata": {},
   "outputs": [
    {
     "name": "stdout",
     "output_type": "stream",
     "text": [
      "Total prompts to process: 2\n",
      "ENTERING COMPLETE\n",
      "ENTERING COMPLETE\n",
      "INPUT PROMPT:  ['what is the capital of france?'] \n",
      "\n",
      "OUTPUT:  The capital of France is Paris.\n",
      "EXITING CHAT \n",
      "\n",
      "\n",
      "Processing prompt 1 out of 2\n",
      "INPUT PROMPT:  ['what is a baby cat called'] \n",
      "\n",
      "OUTPUT:  A baby cat is called a kitten.\n",
      "EXITING CHAT \n",
      "\n",
      "\n",
      "Processing prompt 2 out of 2\n"
     ]
    },
    {
     "data": {
      "text/plain": [
       "['The capital of France is Paris.', 'A baby cat is called a kitten.']"
      ]
     },
     "execution_count": 3,
     "metadata": {},
     "output_type": "execute_result"
    }
   ],
   "source": [
    "# list of completes concurrently\n",
    "import myopenai\n",
    "\n",
    "text1 = [\"what is the capital of france?\"]\n",
    "text2 = [\"what is a baby cat called\"]\n",
    "text_list = []\n",
    "text_list.append(text1)\n",
    "text_list.append(text2)\n",
    "myopenai.con_complete(text_list)"
   ]
  },
  {
   "cell_type": "code",
   "execution_count": 3,
   "metadata": {},
   "outputs": [
    {
     "name": "stdout",
     "output_type": "stream",
     "text": [
      "ENTERING CHAT\n",
      "INPUT MESSAGE:  [{'role': 'system', 'content': \"Imagine you are an expert academic researcher extracting independent variables from sections of academic research. A previous junior summarized the information about independent variables in a research paper. NEVER include any mention of information, metrics, controls, measures, variables etc. that are not mentioned, defined, discussed, etc. in the research. Only mention things that ARE in the research. Remember that you are the expert analyst and you are summarizing the analysis of a junior analyst so make sure you check that the information you are summarizing is only about independent variables and not about other aspects of the research such as results. Be as terse as possible while capturing all details. Never make anything up. Make your summary 1 sentence (If your input is also 1 sentence you don't need to change it). Write as tersely and succinctly as possible while capturing the important information. This output is for the 'independent variable summary' of a table so the end reader already knows the context so do not start your output with 'The independent variables', 'In the research', 'the study', or anything similar, just begin describing the information.\"}, {'role': 'user', 'content': \"the independent variables were time and distance and some other stuff that isn't relevant. N/A.\"}] \n",
      "\n",
      "OUTPUT:  N/A.\n",
      "EXITING CHAT \n",
      "\n",
      "\n"
     ]
    },
    {
     "data": {
      "text/plain": [
       "'N/A.'"
      ]
     },
     "execution_count": 3,
     "metadata": {},
     "output_type": "execute_result"
    }
   ],
   "source": [
    "# CHAT\n",
    "text = \"the independent variables were time and distance and some other stuff that isn't relevant. N/A.\"\n",
    "import myopenai\n",
    "\n",
    "messages = [\n",
    "    {\n",
    "        \"role\": \"system\",\n",
    "        \"content\": \"Imagine you are an expert academic researcher extracting independent variables from sections of academic research. A previous junior summarized the information about independent variables in a research paper. NEVER include any mention of information, metrics, controls, measures, variables etc. that are not mentioned, defined, discussed, etc. in the research. Only mention things that ARE in the research. Remember that you are the expert analyst and you are summarizing the analysis of a junior analyst so make sure you check that the information you are summarizing is only about independent variables and not about other aspects of the research such as results. Be as terse as possible while capturing all details. Never make anything up. Make your summary 1 sentence (If your input is also 1 sentence you don't need to change it). Write as tersely and succinctly as possible while capturing the important information. This output is for the 'independent variable summary' of a table so the end reader already knows the context so do not start your output with 'The independent variables', 'In the research', 'the study', or anything similar, just begin describing the information.\",\n",
    "    },\n",
    "    {\n",
    "        \"role\": \"user\",\n",
    "        \"content\": f\"{text}\",\n",
    "    },\n",
    "]\n",
    "\n",
    "myopenai.chat(messages)"
   ]
  },
  {
   "cell_type": "code",
   "execution_count": 2,
   "metadata": {},
   "outputs": [
    {
     "name": "stdout",
     "output_type": "stream",
     "text": [
      "Total prompts to process: 2\n",
      "ENTERING CHAT\n",
      "INPUT MESSAGE:  [{'role': 'system', 'content': \"Imagine you are an expert academic researcher extracting independent variables from sections of academic research. A previous junior summarized the information about independent variables in a research paper. NEVER include any mention of information, metrics, controls, measures, variables etc. that are not mentioned, defined, discussed, etc. in the research. Only mention things that ARE in the research. Remember that you are the expert analyst and you are summarizing the analysis of a junior analyst so make sure you check that the information you are summarizing is only about independent variables and not about other aspects of the research such as results. Be as terse as possible while capturing all details. Never make anything up. Make your summary 1 sentence (If your input is also 1 sentence you don't need to change it). Write as tersely and succinctly as possible while capturing the important information. This output is for the 'independent variable summary' of a table so the end reader already knows the context so do not start your output with 'The independent variables', 'In the research', 'the study', or anything similar, just begin describing the information.\"}, {'role': 'user', 'content': 'the independent variables were time and distance.'}] \n",
      "\n",
      "ENTERING CHAT\n",
      "INPUT MESSAGE:  [{'role': 'system', 'content': \"Imagine you are an expert academic researcher extracting independent variables from sections of academic research. A previous junior summarized the information about independent variables in a research paper. NEVER include any mention of information, metrics, controls, measures, variables etc. that are not mentioned, defined, discussed, etc. in the research. Only mention things that ARE in the research. Remember that you are the expert analyst and you are summarizing the analysis of a junior analyst so make sure you check that the information you are summarizing is only about independent variables and not about other aspects of the research such as results. Be as terse as possible while capturing all details. Never make anything up. Make your summary 1 sentence (If your input is also 1 sentence you don't need to change it). Write as tersely and succinctly as possible while capturing the important information. This output is for the 'independent variable summary' of a table so the end reader already knows the context so do not start your output with 'The independent variables', 'In the research', 'the study', or anything similar, just begin describing the information.\"}, {'role': 'user', 'content': 'Another set of text you want to analyze...'}] \n",
      "\n",
      "OUTPUT:  No changes needed.\n",
      "EXITING CHAT \n",
      "\n",
      "\n",
      "Processing prompt 1 out of 2\n",
      "OUTPUT:  I'm sorry, I cannot see any text to analyze. Please provide the text you want me to analyze.\n",
      "EXITING CHAT \n",
      "\n",
      "\n",
      "Processing prompt 2 out of 2\n",
      "['No changes needed.', \"I'm sorry, I cannot see any text to analyze. Please provide the text you want me to analyze.\"]\n"
     ]
    }
   ],
   "source": [
    "import myopenai\n",
    "\n",
    "# First set of messages\n",
    "text = \"the independent variables were time and distance.\"\n",
    "messages1 = [\n",
    "    {\n",
    "        \"role\": \"system\",\n",
    "        \"content\": \"Imagine you are an expert academic researcher extracting independent variables from sections of academic research. A previous junior summarized the information about independent variables in a research paper. NEVER include any mention of information, metrics, controls, measures, variables etc. that are not mentioned, defined, discussed, etc. in the research. Only mention things that ARE in the research. Remember that you are the expert analyst and you are summarizing the analysis of a junior analyst so make sure you check that the information you are summarizing is only about independent variables and not about other aspects of the research such as results. Be as terse as possible while capturing all details. Never make anything up. Make your summary 1 sentence (If your input is also 1 sentence you don't need to change it). Write as tersely and succinctly as possible while capturing the important information. This output is for the 'independent variable summary' of a table so the end reader already knows the context so do not start your output with 'The independent variables', 'In the research', 'the study', or anything similar, just begin describing the information.\",\n",
    "    },\n",
    "    {\n",
    "        \"role\": \"user\",\n",
    "        \"content\": f\"{text}\",\n",
    "    },\n",
    "]\n",
    "\n",
    "# Second set of messages\n",
    "text2 = \"Another set of text you want to analyze...\"\n",
    "messages2 = [\n",
    "    {\n",
    "        \"role\": \"system\",\n",
    "        \"content\": \"Imagine you are an expert academic researcher extracting independent variables from sections of academic research. A previous junior summarized the information about independent variables in a research paper. NEVER include any mention of information, metrics, controls, measures, variables etc. that are not mentioned, defined, discussed, etc. in the research. Only mention things that ARE in the research. Remember that you are the expert analyst and you are summarizing the analysis of a junior analyst so make sure you check that the information you are summarizing is only about independent variables and not about other aspects of the research such as results. Be as terse as possible while capturing all details. Never make anything up. Make your summary 1 sentence (If your input is also 1 sentence you don't need to change it). Write as tersely and succinctly as possible while capturing the important information. This output is for the 'independent variable summary' of a table so the end reader already knows the context so do not start your output with 'The independent variables', 'In the research', 'the study', or anything similar, just begin describing the information.\",\n",
    "    },\n",
    "    {\n",
    "        \"role\": \"user\",\n",
    "        \"content\": f\"{text2}\",\n",
    "    },\n",
    "]\n",
    "\n",
    "# Feed both sets of messages to con_chat concurrently\n",
    "responses = myopenai.con_chat([messages1, messages2])\n",
    "\n",
    "# Now responses should be a list with two responses: one for each set of messages.\n",
    "print(responses)"
   ]
  },
  {
   "cell_type": "code",
   "execution_count": null,
   "metadata": {},
   "outputs": [],
   "source": []
  },
  {
   "cell_type": "code",
   "execution_count": 8,
   "metadata": {},
   "outputs": [],
   "source": [
    "# load full file for fixing you can delete after\n",
    "import pandas as pd\n",
    "\n",
    "# Define the file path\n",
    "file_path = r\"C:\\Users\\bmills\\Code\\Datasets\\Examples with hardcoded paths for data\\Full_Output_2023.0911.xlsx\"\n",
    "\n",
    "# Load the Excel file into a DataFrame\n",
    "relevant_df = pd.read_excel(file_path, engine=\"openpyxl\")\n",
    "\n",
    "\n",
    "relevant_df = relevant_df.head(5)"
   ]
  },
  {
   "cell_type": "code",
   "execution_count": 9,
   "metadata": {},
   "outputs": [
    {
     "data": {
      "text/plain": [
       "\"N/A - No independent variables were identified or discussed in the paper sections. Independent Variable: Augmented Reality Navigation system (AR-N) is a navigation system that fuses nasal endoscopic images into 3-D virtual images for complex sinus and skull base surgeries. It is measured by comparing its performance with a conventional navigation (C-N) system in a simulated surgical procedure on cadaver heads, and is controlled by randomizing the order of sides and order of navigation system employment for each specimen, standardizing surgical procedures, and using a dialog-based computer application to measure the surgeon's perceived workload and mental demand. The accuracy and clinical feasibility of the system is analyzed according to surgeons' years of experience and assessed through quantified scores in each subscale and overall score obtained through a program based on the NASA-TLX rating scale. The AR-N system outperformed the C-N system in all categories measured, and was further evaluated based on different navigational systems and display fusing real endoscopic images to 3-D virtual images in head phantom experiments.'\""
      ]
     },
     "execution_count": 9,
     "metadata": {},
     "output_type": "execute_result"
    }
   ],
   "source": [
    "relevant_df[\"IV_Summary\"][1]"
   ]
  },
  {
   "cell_type": "code",
   "execution_count": 4,
   "metadata": {},
   "outputs": [
    {
     "ename": "NameError",
     "evalue": "name 'relevant_df' is not defined",
     "output_type": "error",
     "traceback": [
      "\u001b[1;31m---------------------------------------------------------------------------\u001b[0m",
      "\u001b[1;31mNameError\u001b[0m                                 Traceback (most recent call last)",
      "\u001b[1;32mc:\\Users\\bmills\\Code\\AAA\\myopenai_examples.ipynb Cell 9\u001b[0m line \u001b[0;36m1\n\u001b[0;32m      <a href='vscode-notebook-cell:/c%3A/Users/bmills/Code/AAA/myopenai_examples.ipynb#X10sZmlsZQ%3D%3D?line=2'>3</a>\u001b[0m     \u001b[39mreturn\u001b[39;00m [\n\u001b[0;32m      <a href='vscode-notebook-cell:/c%3A/Users/bmills/Code/AAA/myopenai_examples.ipynb#X10sZmlsZQ%3D%3D?line=3'>4</a>\u001b[0m         {\n\u001b[0;32m      <a href='vscode-notebook-cell:/c%3A/Users/bmills/Code/AAA/myopenai_examples.ipynb#X10sZmlsZQ%3D%3D?line=4'>5</a>\u001b[0m             \u001b[39m\"\u001b[39m\u001b[39mrole\u001b[39m\u001b[39m\"\u001b[39m: \u001b[39m\"\u001b[39m\u001b[39msystem\u001b[39m\u001b[39m\"\u001b[39m,\n\u001b[1;32m   (...)\u001b[0m\n\u001b[0;32m     <a href='vscode-notebook-cell:/c%3A/Users/bmills/Code/AAA/myopenai_examples.ipynb#X10sZmlsZQ%3D%3D?line=10'>11</a>\u001b[0m         },\n\u001b[0;32m     <a href='vscode-notebook-cell:/c%3A/Users/bmills/Code/AAA/myopenai_examples.ipynb#X10sZmlsZQ%3D%3D?line=11'>12</a>\u001b[0m     ]\n\u001b[0;32m     <a href='vscode-notebook-cell:/c%3A/Users/bmills/Code/AAA/myopenai_examples.ipynb#X10sZmlsZQ%3D%3D?line=13'>14</a>\u001b[0m \u001b[39m# Prepare all chat messages\u001b[39;00m\n\u001b[1;32m---> <a href='vscode-notebook-cell:/c%3A/Users/bmills/Code/AAA/myopenai_examples.ipynb#X10sZmlsZQ%3D%3D?line=14'>15</a>\u001b[0m all_messages \u001b[39m=\u001b[39m relevant_df[\u001b[39m\"\u001b[39m\u001b[39mRelevancy\u001b[39m\u001b[39m\"\u001b[39m]\u001b[39m.\u001b[39mapply(prepare_message_for_relevancy)\u001b[39m.\u001b[39mtolist()\n\u001b[0;32m     <a href='vscode-notebook-cell:/c%3A/Users/bmills/Code/AAA/myopenai_examples.ipynb#X10sZmlsZQ%3D%3D?line=16'>17</a>\u001b[0m \u001b[39m# Get all responses concurrently\u001b[39;00m\n\u001b[0;32m     <a href='vscode-notebook-cell:/c%3A/Users/bmills/Code/AAA/myopenai_examples.ipynb#X10sZmlsZQ%3D%3D?line=17'>18</a>\u001b[0m responses \u001b[39m=\u001b[39m myopenai\u001b[39m.\u001b[39mcon_chat(all_messages)\n",
      "\u001b[1;31mNameError\u001b[0m: name 'relevant_df' is not defined"
     ]
    }
   ],
   "source": [
    "import myopenai\n",
    "def prepare_message_for_relevancy(text):\n",
    "    return [\n",
    "        {\n",
    "            \"role\": \"system\",\n",
    "            \"content\": \"Remove all specific references to methodologies like VR, AR, social media, or other similar terms from the following text. Keep the rest of the content intact and ensure the modified text maintains its original meaning and context.\"\n",
    "        },\n",
    "        {\n",
    "            \"role\": \"user\",\n",
    "            \"content\": text,\n",
    "        },\n",
    "    ]\n",
    "\n",
    "# Prepare all chat messages\n",
    "all_messages = relevant_df[\"Relevancy\"].apply(prepare_message_for_relevancy).tolist()\n",
    "\n",
    "# Get all responses concurrently\n",
    "responses = myopenai.con_chat(all_messages)\n",
    "\n",
    "# Assign the responses back to the DataFrame\n",
    "relevant_df[\"RelevancyClean\"] = responses\n"
   ]
  },
  {
   "cell_type": "code",
   "execution_count": null,
   "metadata": {},
   "outputs": [],
   "source": []
  },
  {
   "cell_type": "code",
   "execution_count": null,
   "metadata": {},
   "outputs": [],
   "source": [
    "# APPLY CHAT TO EACH ROW OF A DATAFRAME AFTER SPLITTING\n",
    "import myopenai\n",
    "\n",
    "\n",
    "def get_iv_summary_small(text):\n",
    "    # Split the text into smaller sections\n",
    "    texts = myopenai.split(text)\n",
    "\n",
    "    # Create a list of prompts based on the split texts\n",
    "    chat_messages_list = []\n",
    "    for txt in texts:\n",
    "        chat_messages = [\n",
    "            {\n",
    "                \"role\": \"system\",\n",
    "                \"content\": f\"Imagine you are an expert academic researcher extracting independent variables from sections of academic research. A previous junior summarized the information about independent variables in a research paper. NEVER include any mention of information, metrics, controls, measures, variables etc. that are not mentioned, defined, discussed, etc. in the research. Only mention things that ARE in the research. Remember that you are the expert analyst and you are summarizing the analysis of a junior analyst so make sure you check that that the information you are summarizing is only be about independent variables and not about other aspects of the research such as results. Be as terse as possible while capturing all details. Never make anything up. Make your summary 1 sentence (If your input is also 1 sentence you don't need to change it).Write as tersely and succintly as possible while capturing the important information. This output is for the 'independent variable summary' of a table so the end reader already know the context so do not start your output with 'The independent variables', 'In the research', 'the study', or anything similar, just begin describing the the information.\",\n",
    "            },\n",
    "            {\n",
    "                \"role\": \"user\",\n",
    "                \"content\": f\"{text}\",\n",
    "            },\n",
    "        ]\n",
    "        chat_messages_list.append(chat_messages)\n",
    "\n",
    "    # Get responses for each prompt\n",
    "    response_list = myopenai.con_chat(chat_messages_list)\n",
    "\n",
    "    # Join the responses into a single string\n",
    "    return \" \".join(response_list)\n",
    "\n",
    "\n",
    "# Apply the function to each row of the dataframe\n",
    "relevant_df[\"IV_Summary_Small\"] = relevant_df[\"IV_Summary\"].apply(get_iv_summary_small)\n",
    "\n",
    "\n",
    "relevant_df"
   ]
  }
 ],
 "metadata": {
  "kernelspec": {
   "display_name": "Python 3",
   "language": "python",
   "name": "python3"
  },
  "language_info": {
   "codemirror_mode": {
    "name": "ipython",
    "version": 3
   },
   "file_extension": ".py",
   "mimetype": "text/x-python",
   "name": "python",
   "nbconvert_exporter": "python",
   "pygments_lexer": "ipython3",
   "version": "3.11.6"
  },
  "orig_nbformat": 4
 },
 "nbformat": 4,
 "nbformat_minor": 2
}
